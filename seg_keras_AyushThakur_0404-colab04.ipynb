{
  "nbformat": 4,
  "nbformat_minor": 0,
  "metadata": {
    "colab": {
      "provenance": [],
      "include_colab_link": true
    },
    "kernelspec": {
      "name": "python3",
      "display_name": "Python 3"
    },
    "accelerator": "GPU",
    "widgets": {
      "application/vnd.jupyter.widget-state+json": {
        "f092455750ef4bb58d39bb7e800c29ad": {
          "model_module": "@jupyter-widgets/controls",
          "model_name": "VBoxModel",
          "model_module_version": "1.5.0",
          "state": {
            "_dom_classes": [],
            "_model_module": "@jupyter-widgets/controls",
            "_model_module_version": "1.5.0",
            "_model_name": "VBoxModel",
            "_view_count": null,
            "_view_module": "@jupyter-widgets/controls",
            "_view_module_version": "1.5.0",
            "_view_name": "VBoxView",
            "box_style": "",
            "children": [
              "IPY_MODEL_f03bd590d5e54e9ab78295d130f828b3",
              "IPY_MODEL_d1b9e9e51d514840bd366994b35a4241"
            ],
            "layout": "IPY_MODEL_bde076743aac4d0b98ceedda2ecf5f69"
          }
        },
        "f03bd590d5e54e9ab78295d130f828b3": {
          "model_module": "@jupyter-widgets/controls",
          "model_name": "LabelModel",
          "model_module_version": "1.5.0",
          "state": {
            "_dom_classes": [],
            "_model_module": "@jupyter-widgets/controls",
            "_model_module_version": "1.5.0",
            "_model_name": "LabelModel",
            "_view_count": null,
            "_view_module": "@jupyter-widgets/controls",
            "_view_module_version": "1.5.0",
            "_view_name": "LabelView",
            "description": "",
            "description_tooltip": null,
            "layout": "IPY_MODEL_3c2b5305181e4142ae7e42f8d9116c0a",
            "placeholder": "​",
            "style": "IPY_MODEL_46a78ba9fe154193b6292e89e96260bc",
            "value": "2.453 MB of 2.453 MB uploaded (0.613 MB deduped)\r"
          }
        },
        "d1b9e9e51d514840bd366994b35a4241": {
          "model_module": "@jupyter-widgets/controls",
          "model_name": "FloatProgressModel",
          "model_module_version": "1.5.0",
          "state": {
            "_dom_classes": [],
            "_model_module": "@jupyter-widgets/controls",
            "_model_module_version": "1.5.0",
            "_model_name": "FloatProgressModel",
            "_view_count": null,
            "_view_module": "@jupyter-widgets/controls",
            "_view_module_version": "1.5.0",
            "_view_name": "ProgressView",
            "bar_style": "",
            "description": "",
            "description_tooltip": null,
            "layout": "IPY_MODEL_705f2bc1ba364b7fbd20f9cc62225371",
            "max": 1,
            "min": 0,
            "orientation": "horizontal",
            "style": "IPY_MODEL_cc46e4892cf3443eb33e26dfc3f37732",
            "value": 1
          }
        },
        "bde076743aac4d0b98ceedda2ecf5f69": {
          "model_module": "@jupyter-widgets/base",
          "model_name": "LayoutModel",
          "model_module_version": "1.2.0",
          "state": {
            "_model_module": "@jupyter-widgets/base",
            "_model_module_version": "1.2.0",
            "_model_name": "LayoutModel",
            "_view_count": null,
            "_view_module": "@jupyter-widgets/base",
            "_view_module_version": "1.2.0",
            "_view_name": "LayoutView",
            "align_content": null,
            "align_items": null,
            "align_self": null,
            "border": null,
            "bottom": null,
            "display": null,
            "flex": null,
            "flex_flow": null,
            "grid_area": null,
            "grid_auto_columns": null,
            "grid_auto_flow": null,
            "grid_auto_rows": null,
            "grid_column": null,
            "grid_gap": null,
            "grid_row": null,
            "grid_template_areas": null,
            "grid_template_columns": null,
            "grid_template_rows": null,
            "height": null,
            "justify_content": null,
            "justify_items": null,
            "left": null,
            "margin": null,
            "max_height": null,
            "max_width": null,
            "min_height": null,
            "min_width": null,
            "object_fit": null,
            "object_position": null,
            "order": null,
            "overflow": null,
            "overflow_x": null,
            "overflow_y": null,
            "padding": null,
            "right": null,
            "top": null,
            "visibility": null,
            "width": null
          }
        },
        "3c2b5305181e4142ae7e42f8d9116c0a": {
          "model_module": "@jupyter-widgets/base",
          "model_name": "LayoutModel",
          "model_module_version": "1.2.0",
          "state": {
            "_model_module": "@jupyter-widgets/base",
            "_model_module_version": "1.2.0",
            "_model_name": "LayoutModel",
            "_view_count": null,
            "_view_module": "@jupyter-widgets/base",
            "_view_module_version": "1.2.0",
            "_view_name": "LayoutView",
            "align_content": null,
            "align_items": null,
            "align_self": null,
            "border": null,
            "bottom": null,
            "display": null,
            "flex": null,
            "flex_flow": null,
            "grid_area": null,
            "grid_auto_columns": null,
            "grid_auto_flow": null,
            "grid_auto_rows": null,
            "grid_column": null,
            "grid_gap": null,
            "grid_row": null,
            "grid_template_areas": null,
            "grid_template_columns": null,
            "grid_template_rows": null,
            "height": null,
            "justify_content": null,
            "justify_items": null,
            "left": null,
            "margin": null,
            "max_height": null,
            "max_width": null,
            "min_height": null,
            "min_width": null,
            "object_fit": null,
            "object_position": null,
            "order": null,
            "overflow": null,
            "overflow_x": null,
            "overflow_y": null,
            "padding": null,
            "right": null,
            "top": null,
            "visibility": null,
            "width": null
          }
        },
        "46a78ba9fe154193b6292e89e96260bc": {
          "model_module": "@jupyter-widgets/controls",
          "model_name": "DescriptionStyleModel",
          "model_module_version": "1.5.0",
          "state": {
            "_model_module": "@jupyter-widgets/controls",
            "_model_module_version": "1.5.0",
            "_model_name": "DescriptionStyleModel",
            "_view_count": null,
            "_view_module": "@jupyter-widgets/base",
            "_view_module_version": "1.2.0",
            "_view_name": "StyleView",
            "description_width": ""
          }
        },
        "705f2bc1ba364b7fbd20f9cc62225371": {
          "model_module": "@jupyter-widgets/base",
          "model_name": "LayoutModel",
          "model_module_version": "1.2.0",
          "state": {
            "_model_module": "@jupyter-widgets/base",
            "_model_module_version": "1.2.0",
            "_model_name": "LayoutModel",
            "_view_count": null,
            "_view_module": "@jupyter-widgets/base",
            "_view_module_version": "1.2.0",
            "_view_name": "LayoutView",
            "align_content": null,
            "align_items": null,
            "align_self": null,
            "border": null,
            "bottom": null,
            "display": null,
            "flex": null,
            "flex_flow": null,
            "grid_area": null,
            "grid_auto_columns": null,
            "grid_auto_flow": null,
            "grid_auto_rows": null,
            "grid_column": null,
            "grid_gap": null,
            "grid_row": null,
            "grid_template_areas": null,
            "grid_template_columns": null,
            "grid_template_rows": null,
            "height": null,
            "justify_content": null,
            "justify_items": null,
            "left": null,
            "margin": null,
            "max_height": null,
            "max_width": null,
            "min_height": null,
            "min_width": null,
            "object_fit": null,
            "object_position": null,
            "order": null,
            "overflow": null,
            "overflow_x": null,
            "overflow_y": null,
            "padding": null,
            "right": null,
            "top": null,
            "visibility": null,
            "width": null
          }
        },
        "cc46e4892cf3443eb33e26dfc3f37732": {
          "model_module": "@jupyter-widgets/controls",
          "model_name": "ProgressStyleModel",
          "model_module_version": "1.5.0",
          "state": {
            "_model_module": "@jupyter-widgets/controls",
            "_model_module_version": "1.5.0",
            "_model_name": "ProgressStyleModel",
            "_view_count": null,
            "_view_module": "@jupyter-widgets/base",
            "_view_module_version": "1.2.0",
            "_view_name": "StyleView",
            "bar_color": null,
            "description_width": ""
          }
        }
      }
    }
  },
  "cells": [
    {
      "cell_type": "markdown",
      "metadata": {
        "id": "view-in-github",
        "colab_type": "text"
      },
      "source": [
        "<a href=\"https://colab.research.google.com/github/mykcs/seg-keras-AyushThakur-0404/blob/main/seg_keras_AyushThakur_0404-colab04.ipynb\" target=\"_parent\"><img src=\"https://colab.research.google.com/assets/colab-badge.svg\" alt=\"Open In Colab\"/></a>"
      ]
    },
    {
      "cell_type": "markdown",
      "metadata": {
        "id": "xpLZ1LnA2dQ5"
      },
      "source": [
        "## Imports and Setups"
      ]
    },
    {
      "cell_type": "code",
      "metadata": {
        "id": "Rf2eHZT16Iob"
      },
      "source": [
        "!pip install -qq wandb"
      ],
      "execution_count": 15,
      "outputs": []
    },
    {
      "cell_type": "code",
      "metadata": {
        "id": "vRTx1-Zp7LEn",
        "colab": {
          "base_uri": "https://localhost:8080/"
        },
        "outputId": "5bc0f51a-737c-4573-eba7-0edc8c8e7fff"
      },
      "source": [
        "import wandb\n",
        "from wandb.keras import WandbMetricsLogger\n",
        "from wandb.keras import WandbEvalCallback\n",
        "\n",
        "wandb.login()"
      ],
      "execution_count": 16,
      "outputs": [
        {
          "output_type": "execute_result",
          "data": {
            "text/plain": [
              "True"
            ]
          },
          "metadata": {},
          "execution_count": 16
        }
      ]
    },
    {
      "cell_type": "code",
      "metadata": {
        "id": "3RZuWEXx4LrD"
      },
      "source": [
        "import tensorflow as tf\n",
        "from tensorflow.keras import layers\n",
        "from tensorflow.keras import models\n",
        "\n",
        "import tensorflow_datasets as tfds\n",
        "\n",
        "import os\n",
        "import numpy as np\n",
        "from argparse import Namespace\n",
        "import matplotlib.pyplot as plt"
      ],
      "execution_count": 17,
      "outputs": []
    },
    {
      "cell_type": "code",
      "source": [
        "!nvidia-smi"
      ],
      "metadata": {
        "id": "yf3Cm_K-JT84",
        "colab": {
          "base_uri": "https://localhost:8080/"
        },
        "outputId": "d42ef644-3a6d-46f3-bbb5-4470d6dee9ac"
      },
      "execution_count": 18,
      "outputs": [
        {
          "output_type": "stream",
          "name": "stdout",
          "text": [
            "Wed Apr  3 18:36:51 2024       \n",
            "+---------------------------------------------------------------------------------------+\n",
            "| NVIDIA-SMI 535.104.05             Driver Version: 535.104.05   CUDA Version: 12.2     |\n",
            "|-----------------------------------------+----------------------+----------------------+\n",
            "| GPU  Name                 Persistence-M | Bus-Id        Disp.A | Volatile Uncorr. ECC |\n",
            "| Fan  Temp   Perf          Pwr:Usage/Cap |         Memory-Usage | GPU-Util  Compute M. |\n",
            "|                                         |                      |               MIG M. |\n",
            "|=========================================+======================+======================|\n",
            "|   0  Tesla T4                       Off | 00000000:00:04.0 Off |                    0 |\n",
            "| N/A   71C    P0              33W /  70W |   7293MiB / 15360MiB |      0%      Default |\n",
            "|                                         |                      |                  N/A |\n",
            "+-----------------------------------------+----------------------+----------------------+\n",
            "                                                                                         \n",
            "+---------------------------------------------------------------------------------------+\n",
            "| Processes:                                                                            |\n",
            "|  GPU   GI   CI        PID   Type   Process name                            GPU Memory |\n",
            "|        ID   ID                                                             Usage      |\n",
            "|=======================================================================================|\n",
            "+---------------------------------------------------------------------------------------+\n"
          ]
        }
      ]
    },
    {
      "cell_type": "code",
      "source": [
        "configs = Namespace(\n",
        "    epochs = 10,\n",
        "    img_size = 128,\n",
        "    batch_size = 64,\n",
        "    num_classes = 3,\n",
        ")\n",
        "\n",
        "configs"
      ],
      "metadata": {
        "id": "iTmWoWxXAlGt",
        "colab": {
          "base_uri": "https://localhost:8080/"
        },
        "outputId": "9406a49d-7c26-4f2d-fca0-1f43f42d50b7"
      },
      "execution_count": 19,
      "outputs": [
        {
          "output_type": "execute_result",
          "data": {
            "text/plain": [
              "Namespace(epochs=10, img_size=128, batch_size=64, num_classes=3)"
            ]
          },
          "metadata": {},
          "execution_count": 19
        }
      ]
    },
    {
      "cell_type": "markdown",
      "source": [
        "# Dataloader\n",
        "\n",
        "We will be using Oxford Pets Dataset which we can directly get from TensorFlow Datasets."
      ],
      "metadata": {
        "id": "x7LMKima_Lh_"
      }
    },
    {
      "cell_type": "code",
      "source": [
        "train_ds, valid_ds = tfds.load('oxford_iiit_pet', split=[\"train\", \"test\"])"
      ],
      "metadata": {
        "id": "Ewb18OyD-LVX"
      },
      "execution_count": 20,
      "outputs": []
    },
    {
      "cell_type": "code",
      "metadata": {
        "id": "-pgrpfqWIeI-"
      },
      "source": [
        "AUTOTUNE = tf.data.experimental.AUTOTUNE\n",
        "\n",
        "\n",
        "def parse_data(example):\n",
        "    # Parse image\n",
        "    image = example[\"image\"]\n",
        "    image = tf.image.convert_image_dtype(image, tf.float32)\n",
        "    image = tf.image.resize(image, size=(configs.img_size, configs.img_size))\n",
        "\n",
        "    # Parse mask\n",
        "    mask = example[\"segmentation_mask\"] - 1 # ground truth labels are [1,2,3].\n",
        "    mask = tf.image.resize(mask, size=(configs.img_size, configs.img_size), method='nearest')\n",
        "    mask = tf.one_hot(tf.squeeze(mask, axis=-1), depth=configs.num_classes)\n",
        "\n",
        "    return image, mask\n",
        "\n",
        "trainloader = (\n",
        "    train_ds\n",
        "    .shuffle(1024)\n",
        "    .map(parse_data, num_parallel_calls=AUTOTUNE)\n",
        "    .batch(configs.batch_size)\n",
        "    .prefetch(AUTOTUNE)\n",
        ")\n",
        "\n",
        "validloader = (\n",
        "    valid_ds\n",
        "    .map(parse_data, num_parallel_calls=AUTOTUNE)\n",
        "    .batch(configs.batch_size)\n",
        "    .prefetch(AUTOTUNE)\n",
        ")"
      ],
      "execution_count": 21,
      "outputs": []
    },
    {
      "cell_type": "markdown",
      "metadata": {
        "id": "R5kZhpJks2J5"
      },
      "source": [
        "## Model"
      ]
    },
    {
      "cell_type": "code",
      "metadata": {
        "id": "VPkmeHXRY_MU"
      },
      "source": [
        "# ref: https://github.com/ayulockin/deepimageinpainting/blob/master/Image_Inpainting_Autoencoder_Decoder_v2_0.ipynb\n",
        "class SegmentationModel:\n",
        "    '''\n",
        "    Build UNET based model for segmentation task.\n",
        "    '''\n",
        "    def prepare_model(self, OUTPUT_CHANNEL, input_size=(configs.img_size, configs.img_size, 3)):\n",
        "        inputs = layers.Input(input_size)\n",
        "\n",
        "        conv1, pool1 = self.__ConvBlock(32, (3,3), (2,2), 'relu', 'same', inputs)\n",
        "        conv2, pool2 = self.__ConvBlock(64, (3,3), (2,2), 'relu', 'same', pool1)\n",
        "        conv3, pool3 = self.__ConvBlock(128, (3,3), (2,2), 'relu', 'same', pool2)\n",
        "        conv4, pool4 = self.__ConvBlock(256, (3,3), (2,2), 'relu', 'same', pool3)\n",
        "\n",
        "        conv5, up6 = self.__UpConvBlock(512, 256, (3,3), (2,2), (2,2), 'relu', 'same', pool4, conv4)\n",
        "        conv6, up7 = self.__UpConvBlock(256, 128, (3,3), (2,2), (2,2), 'relu', 'same', up6, conv3)\n",
        "        conv7, up8 = self.__UpConvBlock(128, 64, (3,3), (2,2), (2,2), 'relu', 'same', up7, conv2)\n",
        "        conv8, up9 = self.__UpConvBlock(64, 32, (3,3), (2,2), (2,2), 'relu', 'same', up8, conv1)\n",
        "\n",
        "        conv9 = self.__ConvBlock(32, (3,3), (2,2), 'relu', 'same', up9, False)\n",
        "\n",
        "        outputs = layers.Conv2D(OUTPUT_CHANNEL, (3, 3), activation='softmax', padding='same')(conv9)\n",
        "\n",
        "        return models.Model(inputs=[inputs], outputs=[outputs])\n",
        "\n",
        "    def __ConvBlock(self, filters, kernel_size, pool_size, activation, padding, connecting_layer, pool_layer=True):\n",
        "        conv = layers.Conv2D(filters=filters, kernel_size=kernel_size, activation=activation, padding=padding)(connecting_layer)\n",
        "        conv = layers.Conv2D(filters=filters, kernel_size=kernel_size, activation=activation, padding=padding)(conv)\n",
        "        if pool_layer:\n",
        "          pool = layers.MaxPooling2D(pool_size)(conv)\n",
        "          return conv, pool\n",
        "        else:\n",
        "          return conv\n",
        "\n",
        "    def __UpConvBlock(self, filters, up_filters, kernel_size, up_kernel, up_stride, activation, padding, connecting_layer, shared_layer):\n",
        "        conv = layers.Conv2D(filters=filters, kernel_size=kernel_size, activation=activation, padding=padding)(connecting_layer)\n",
        "        conv = layers.Conv2D(filters=filters, kernel_size=kernel_size, activation=activation, padding=padding)(conv)\n",
        "        up = layers.Conv2DTranspose(filters=up_filters, kernel_size=up_kernel, strides=up_stride, padding=padding)(conv)\n",
        "        up = layers.concatenate([up, shared_layer], axis=3)\n",
        "\n",
        "        return conv, up"
      ],
      "execution_count": 22,
      "outputs": []
    },
    {
      "cell_type": "markdown",
      "metadata": {
        "id": "5VDkcXkjs5TV"
      },
      "source": [
        "#### Initialize Model and Compile"
      ]
    },
    {
      "cell_type": "code",
      "metadata": {
        "id": "yPpOC1NXZwsI",
        "colab": {
          "base_uri": "https://localhost:8080/"
        },
        "outputId": "acda8c68-43d9-461c-8f1e-4bee78449100"
      },
      "source": [
        "# output channel is 3 because we have three classes in our mask\n",
        "tf.keras.backend.clear_session()\n",
        "model = SegmentationModel().prepare_model(configs.num_classes)\n",
        "\n",
        "model.compile(\n",
        "    optimizer=\"adam\",\n",
        "    loss=\"categorical_crossentropy\",\n",
        ")\n",
        "\n",
        "model.summary()"
      ],
      "execution_count": 23,
      "outputs": [
        {
          "output_type": "stream",
          "name": "stdout",
          "text": [
            "Model: \"model\"\n",
            "__________________________________________________________________________________________________\n",
            " Layer (type)                Output Shape                 Param #   Connected to                  \n",
            "==================================================================================================\n",
            " input_1 (InputLayer)        [(None, 128, 128, 3)]        0         []                            \n",
            "                                                                                                  \n",
            " conv2d (Conv2D)             (None, 128, 128, 32)         896       ['input_1[0][0]']             \n",
            "                                                                                                  \n",
            " conv2d_1 (Conv2D)           (None, 128, 128, 32)         9248      ['conv2d[0][0]']              \n",
            "                                                                                                  \n",
            " max_pooling2d (MaxPooling2  (None, 64, 64, 32)           0         ['conv2d_1[0][0]']            \n",
            " D)                                                                                               \n",
            "                                                                                                  \n",
            " conv2d_2 (Conv2D)           (None, 64, 64, 64)           18496     ['max_pooling2d[0][0]']       \n",
            "                                                                                                  \n",
            " conv2d_3 (Conv2D)           (None, 64, 64, 64)           36928     ['conv2d_2[0][0]']            \n",
            "                                                                                                  \n",
            " max_pooling2d_1 (MaxPoolin  (None, 32, 32, 64)           0         ['conv2d_3[0][0]']            \n",
            " g2D)                                                                                             \n",
            "                                                                                                  \n",
            " conv2d_4 (Conv2D)           (None, 32, 32, 128)          73856     ['max_pooling2d_1[0][0]']     \n",
            "                                                                                                  \n",
            " conv2d_5 (Conv2D)           (None, 32, 32, 128)          147584    ['conv2d_4[0][0]']            \n",
            "                                                                                                  \n",
            " max_pooling2d_2 (MaxPoolin  (None, 16, 16, 128)          0         ['conv2d_5[0][0]']            \n",
            " g2D)                                                                                             \n",
            "                                                                                                  \n",
            " conv2d_6 (Conv2D)           (None, 16, 16, 256)          295168    ['max_pooling2d_2[0][0]']     \n",
            "                                                                                                  \n",
            " conv2d_7 (Conv2D)           (None, 16, 16, 256)          590080    ['conv2d_6[0][0]']            \n",
            "                                                                                                  \n",
            " max_pooling2d_3 (MaxPoolin  (None, 8, 8, 256)            0         ['conv2d_7[0][0]']            \n",
            " g2D)                                                                                             \n",
            "                                                                                                  \n",
            " conv2d_8 (Conv2D)           (None, 8, 8, 512)            1180160   ['max_pooling2d_3[0][0]']     \n",
            "                                                                                                  \n",
            " conv2d_9 (Conv2D)           (None, 8, 8, 512)            2359808   ['conv2d_8[0][0]']            \n",
            "                                                                                                  \n",
            " conv2d_transpose (Conv2DTr  (None, 16, 16, 256)          524544    ['conv2d_9[0][0]']            \n",
            " anspose)                                                                                         \n",
            "                                                                                                  \n",
            " concatenate (Concatenate)   (None, 16, 16, 512)          0         ['conv2d_transpose[0][0]',    \n",
            "                                                                     'conv2d_7[0][0]']            \n",
            "                                                                                                  \n",
            " conv2d_10 (Conv2D)          (None, 16, 16, 256)          1179904   ['concatenate[0][0]']         \n",
            "                                                                                                  \n",
            " conv2d_11 (Conv2D)          (None, 16, 16, 256)          590080    ['conv2d_10[0][0]']           \n",
            "                                                                                                  \n",
            " conv2d_transpose_1 (Conv2D  (None, 32, 32, 128)          131200    ['conv2d_11[0][0]']           \n",
            " Transpose)                                                                                       \n",
            "                                                                                                  \n",
            " concatenate_1 (Concatenate  (None, 32, 32, 256)          0         ['conv2d_transpose_1[0][0]',  \n",
            " )                                                                   'conv2d_5[0][0]']            \n",
            "                                                                                                  \n",
            " conv2d_12 (Conv2D)          (None, 32, 32, 128)          295040    ['concatenate_1[0][0]']       \n",
            "                                                                                                  \n",
            " conv2d_13 (Conv2D)          (None, 32, 32, 128)          147584    ['conv2d_12[0][0]']           \n",
            "                                                                                                  \n",
            " conv2d_transpose_2 (Conv2D  (None, 64, 64, 64)           32832     ['conv2d_13[0][0]']           \n",
            " Transpose)                                                                                       \n",
            "                                                                                                  \n",
            " concatenate_2 (Concatenate  (None, 64, 64, 128)          0         ['conv2d_transpose_2[0][0]',  \n",
            " )                                                                   'conv2d_3[0][0]']            \n",
            "                                                                                                  \n",
            " conv2d_14 (Conv2D)          (None, 64, 64, 64)           73792     ['concatenate_2[0][0]']       \n",
            "                                                                                                  \n",
            " conv2d_15 (Conv2D)          (None, 64, 64, 64)           36928     ['conv2d_14[0][0]']           \n",
            "                                                                                                  \n",
            " conv2d_transpose_3 (Conv2D  (None, 128, 128, 32)         8224      ['conv2d_15[0][0]']           \n",
            " Transpose)                                                                                       \n",
            "                                                                                                  \n",
            " concatenate_3 (Concatenate  (None, 128, 128, 64)         0         ['conv2d_transpose_3[0][0]',  \n",
            " )                                                                   'conv2d_1[0][0]']            \n",
            "                                                                                                  \n",
            " conv2d_16 (Conv2D)          (None, 128, 128, 32)         18464     ['concatenate_3[0][0]']       \n",
            "                                                                                                  \n",
            " conv2d_17 (Conv2D)          (None, 128, 128, 32)         9248      ['conv2d_16[0][0]']           \n",
            "                                                                                                  \n",
            " conv2d_18 (Conv2D)          (None, 128, 128, 3)          867       ['conv2d_17[0][0]']           \n",
            "                                                                                                  \n",
            "==================================================================================================\n",
            "Total params: 7760931 (29.61 MB)\n",
            "Trainable params: 7760931 (29.61 MB)\n",
            "Non-trainable params: 0 (0.00 Byte)\n",
            "__________________________________________________________________________________________________\n"
          ]
        }
      ]
    },
    {
      "cell_type": "markdown",
      "metadata": {
        "id": "-TcgyZDoz_DI"
      },
      "source": [
        "## Callback"
      ]
    },
    {
      "cell_type": "code",
      "metadata": {
        "id": "XLPahLlK0Awz"
      },
      "source": [
        "segmentation_classes = ['pet', 'pet_outline', 'background']\n",
        "\n",
        "# returns a dictionary of labels\n",
        "def labels():\n",
        "    l = {}\n",
        "    for i, label in enumerate(segmentation_classes):\n",
        "        l[i] = label\n",
        "    return l"
      ],
      "execution_count": 24,
      "outputs": []
    },
    {
      "cell_type": "code",
      "source": [
        "class WandbSemanticLogger(WandbEvalCallback):\n",
        "    def __init__(\n",
        "        self,\n",
        "        validloader,\n",
        "        data_table_columns=[\"index\", \"image\"],\n",
        "        pred_table_columns=[\"epoch\", \"index\", \"image\", \"prediction\"],\n",
        "        num_samples=100,\n",
        "    ):\n",
        "        super().__init__(\n",
        "            data_table_columns,\n",
        "            pred_table_columns,\n",
        "        )\n",
        "\n",
        "        self.val_data = validloader.unbatch().take(num_samples)\n",
        "\n",
        "    def add_ground_truth(self, logs):\n",
        "        for idx, (image, mask) in enumerate(self.val_data):\n",
        "            self.data_table.add_data(\n",
        "                idx,\n",
        "                self._prepare_wandb_mask(\n",
        "                    image.numpy(),\n",
        "                    np.argmax(mask.numpy(), axis=-1),\n",
        "                    \"ground_truth\"\n",
        "                )\n",
        "            )\n",
        "\n",
        "    def add_model_predictions(self, epoch, logs):\n",
        "        data_table_ref = self.data_table_ref\n",
        "        table_idxs = data_table_ref.get_index()\n",
        "\n",
        "        for idx, (image, mask) in enumerate(self.val_data):\n",
        "            prediction = self.model.predict(tf.expand_dims(image, axis=0), verbose=0)\n",
        "            prediction = np.argmax(tf.squeeze(prediction, axis=0).numpy(), axis=-1)\n",
        "\n",
        "            self.pred_table.add_data(\n",
        "                epoch,\n",
        "                data_table_ref.data[idx][0],\n",
        "                self._prepare_wandb_mask(\n",
        "                    data_table_ref.data[idx][1],\n",
        "                    np.argmax(mask.numpy(), axis=-1),\n",
        "                    \"ground_truth\"\n",
        "                ),\n",
        "                self._prepare_wandb_mask(\n",
        "                    data_table_ref.data[idx][1],\n",
        "                    prediction,\n",
        "                    \"prediction\"\n",
        "                )\n",
        "            )\n",
        "\n",
        "    def _prepare_wandb_mask(self, image, mask, mask_type):\n",
        "        return wandb.Image(\n",
        "            image,\n",
        "            masks = {\n",
        "                \"ground_truth\": {\n",
        "                    \"mask_data\": mask,\n",
        "                    \"class_labels\": labels()\n",
        "            }})"
      ],
      "metadata": {
        "id": "twjjzv9MN7N0"
      },
      "execution_count": 25,
      "outputs": []
    },
    {
      "cell_type": "markdown",
      "metadata": {
        "id": "Xe8JWIlXs_EQ"
      },
      "source": [
        "## Train"
      ]
    },
    {
      "cell_type": "code",
      "metadata": {
        "id": "odN9SwNqaPz3",
        "colab": {
          "base_uri": "https://localhost:8080/",
          "height": 104
        },
        "outputId": "bfe2d4b6-83c7-4c71-8a14-cd42f99cb2c6"
      },
      "source": [
        "run = wandb.init(project='seg-keras-AyushThakur-0404',\n",
        "                 name = \"colab04\"\n",
        "                 group=\"colab\",\n",
        "                 job_type=\"first-try\",\n",
        "                 config=configs\n",
        "                 )\n"
      ],
      "execution_count": 26,
      "outputs": [
        {
          "output_type": "display_data",
          "data": {
            "text/plain": [
              "<IPython.core.display.HTML object>"
            ],
            "text/html": [
              "Tracking run with wandb version 0.16.5"
            ]
          },
          "metadata": {}
        },
        {
          "output_type": "display_data",
          "data": {
            "text/plain": [
              "<IPython.core.display.HTML object>"
            ],
            "text/html": [
              "Run data is saved locally in <code>/content/wandb/run-20240403_183652-js05iojd</code>"
            ]
          },
          "metadata": {}
        },
        {
          "output_type": "display_data",
          "data": {
            "text/plain": [
              "<IPython.core.display.HTML object>"
            ],
            "text/html": [
              "Syncing run <strong><a href='https://wandb.ai/team-mykcs/seg-keras-AyushThakur-0404/runs/js05iojd/workspace' target=\"_blank\">generous-wave-9</a></strong> to <a href='https://wandb.ai/team-mykcs/seg-keras-AyushThakur-0404' target=\"_blank\">Weights & Biases</a> (<a href='https://wandb.me/run' target=\"_blank\">docs</a>)<br/>"
            ]
          },
          "metadata": {}
        },
        {
          "output_type": "display_data",
          "data": {
            "text/plain": [
              "<IPython.core.display.HTML object>"
            ],
            "text/html": [
              " View project at <a href='https://wandb.ai/team-mykcs/seg-keras-AyushThakur-0404' target=\"_blank\">https://wandb.ai/team-mykcs/seg-keras-AyushThakur-0404</a>"
            ]
          },
          "metadata": {}
        },
        {
          "output_type": "display_data",
          "data": {
            "text/plain": [
              "<IPython.core.display.HTML object>"
            ],
            "text/html": [
              " View run at <a href='https://wandb.ai/team-mykcs/seg-keras-AyushThakur-0404/runs/js05iojd/workspace' target=\"_blank\">https://wandb.ai/team-mykcs/seg-keras-AyushThakur-0404/runs/js05iojd/workspace</a>"
            ]
          },
          "metadata": {}
        }
      ]
    },
    {
      "cell_type": "code",
      "source": [
        "_ = model.fit(\n",
        "    trainloader,\n",
        "    epochs=configs.epochs,  # 10\n",
        "    validation_data=validloader,\n",
        "    callbacks=[\n",
        "        WandbMetricsLogger(log_freq=2),\n",
        "        WandbSemanticLogger(validloader)\n",
        "      ]\n",
        "    )\n"
      ],
      "metadata": {
        "id": "Fx_DDFrcLU2O",
        "colab": {
          "base_uri": "https://localhost:8080/"
        },
        "outputId": "86b41245-d6c5-447a-eb49-28e3859e147f"
      },
      "execution_count": 27,
      "outputs": [
        {
          "output_type": "stream",
          "name": "stderr",
          "text": [
            "\u001b[34m\u001b[1mwandb\u001b[0m:   202 of 202 files downloaded.  \n"
          ]
        },
        {
          "output_type": "stream",
          "name": "stdout",
          "text": [
            "Epoch 1/10\n",
            " 6/58 [==>...........................] - ETA: 16s - loss: 1.0708"
          ]
        },
        {
          "output_type": "stream",
          "name": "stderr",
          "text": [
            "WARNING:tensorflow:Callback method `on_train_batch_end` is slow compared to the batch time (batch time: 0.1179s vs `on_train_batch_end` time: 0.1680s). Check your callbacks.\n"
          ]
        },
        {
          "output_type": "stream",
          "name": "stdout",
          "text": [
            "58/58 [==============================] - 57s 752ms/step - loss: 0.9193 - val_loss: 0.7580\n",
            "Epoch 2/10\n",
            "58/58 [==============================] - 50s 828ms/step - loss: 0.7110 - val_loss: 0.6714\n",
            "Epoch 3/10\n",
            "58/58 [==============================] - 43s 675ms/step - loss: 0.6430 - val_loss: 0.6328\n",
            "Epoch 4/10\n",
            "58/58 [==============================] - 42s 679ms/step - loss: 0.5885 - val_loss: 0.5529\n",
            "Epoch 5/10\n",
            "58/58 [==============================] - 42s 668ms/step - loss: 0.5333 - val_loss: 0.4943\n",
            "Epoch 6/10\n",
            "58/58 [==============================] - 50s 834ms/step - loss: 0.4870 - val_loss: 0.4561\n",
            "Epoch 7/10\n",
            "58/58 [==============================] - 47s 750ms/step - loss: 0.4554 - val_loss: 0.4476\n",
            "Epoch 8/10\n",
            "58/58 [==============================] - 46s 685ms/step - loss: 0.4110 - val_loss: 0.4120\n",
            "Epoch 9/10\n",
            "58/58 [==============================] - 41s 670ms/step - loss: 0.3974 - val_loss: 0.3903\n",
            "Epoch 10/10\n",
            "58/58 [==============================] - 44s 663ms/step - loss: 0.3635 - val_loss: 0.4106\n"
          ]
        }
      ]
    },
    {
      "cell_type": "code",
      "source": [
        "run.finish()"
      ],
      "metadata": {
        "id": "u9Zu8o-6LWZS",
        "colab": {
          "base_uri": "https://localhost:8080/",
          "height": 334,
          "referenced_widgets": [
            "f092455750ef4bb58d39bb7e800c29ad",
            "f03bd590d5e54e9ab78295d130f828b3",
            "d1b9e9e51d514840bd366994b35a4241",
            "bde076743aac4d0b98ceedda2ecf5f69",
            "3c2b5305181e4142ae7e42f8d9116c0a",
            "46a78ba9fe154193b6292e89e96260bc",
            "705f2bc1ba364b7fbd20f9cc62225371",
            "cc46e4892cf3443eb33e26dfc3f37732"
          ]
        },
        "outputId": "e61eccb3-1933-43ef-a738-b410a40fb83f"
      },
      "execution_count": 28,
      "outputs": [
        {
          "output_type": "display_data",
          "data": {
            "text/plain": [
              "VBox(children=(Label(value='2.442 MB of 2.442 MB uploaded (0.613 MB deduped)\\r'), FloatProgress(value=1.0, max…"
            ],
            "application/vnd.jupyter.widget-view+json": {
              "version_major": 2,
              "version_minor": 0,
              "model_id": "f092455750ef4bb58d39bb7e800c29ad"
            }
          },
          "metadata": {}
        },
        {
          "output_type": "display_data",
          "data": {
            "text/plain": [
              "<IPython.core.display.HTML object>"
            ],
            "text/html": [
              "W&B sync reduced upload amount by 25.0%             "
            ]
          },
          "metadata": {}
        },
        {
          "output_type": "display_data",
          "data": {
            "text/plain": [
              "<IPython.core.display.HTML object>"
            ],
            "text/html": [
              "<style>\n",
              "    table.wandb td:nth-child(1) { padding: 0 10px; text-align: left ; width: auto;} td:nth-child(2) {text-align: left ; width: 100%}\n",
              "    .wandb-row { display: flex; flex-direction: row; flex-wrap: wrap; justify-content: flex-start; width: 100% }\n",
              "    .wandb-col { display: flex; flex-direction: column; flex-basis: 100%; flex: 1; padding: 10px; }\n",
              "    </style>\n",
              "<div class=\"wandb-row\"><div class=\"wandb-col\"><h3>Run history:</h3><br/><table class=\"wandb\"><tr><td>batch/batch_step</td><td>▁▁▁▁▂▂▂▂▂▃▃▃▃▃▃▄▄▄▄▄▅▅▅▅▅▅▆▆▆▆▆▇▇▇▇▇▇███</td></tr><tr><td>batch/learning_rate</td><td>▁▁▁▁▁▁▁▁▁▁▁▁▁▁▁▁▁▁▁▁▁▁▁▁▁▁▁▁▁▁▁▁▁▁▁▁▁▁▁▁</td></tr><tr><td>batch/loss</td><td>█▇▇▇▅▅▅▅▄▄▄▄▄▃▃▃▃▃▃▃▂▂▂▂▂▂▂▂▁▁▁▁▁▁▁▁▁▁▁▁</td></tr><tr><td>epoch/epoch</td><td>▁▂▃▃▄▅▆▆▇█</td></tr><tr><td>epoch/learning_rate</td><td>▁▁▁▁▁▁▁▁▁▁</td></tr><tr><td>epoch/loss</td><td>█▅▅▄▃▃▂▂▁▁</td></tr><tr><td>epoch/val_loss</td><td>█▆▆▄▃▂▂▁▁▁</td></tr></table><br/></div><div class=\"wandb-col\"><h3>Run summary:</h3><br/><table class=\"wandb\"><tr><td>batch/batch_step</td><td>578</td></tr><tr><td>batch/learning_rate</td><td>0.001</td></tr><tr><td>batch/loss</td><td>0.36368</td></tr><tr><td>epoch/epoch</td><td>9</td></tr><tr><td>epoch/learning_rate</td><td>0.001</td></tr><tr><td>epoch/loss</td><td>0.36346</td></tr><tr><td>epoch/val_loss</td><td>0.41056</td></tr></table><br/></div></div>"
            ]
          },
          "metadata": {}
        },
        {
          "output_type": "display_data",
          "data": {
            "text/plain": [
              "<IPython.core.display.HTML object>"
            ],
            "text/html": [
              " View run <strong style=\"color:#cdcd00\">generous-wave-9</strong> at: <a href='https://wandb.ai/team-mykcs/seg-keras-AyushThakur-0404/runs/js05iojd/workspace' target=\"_blank\">https://wandb.ai/team-mykcs/seg-keras-AyushThakur-0404/runs/js05iojd/workspace</a><br/>Synced 5 W&B file(s), 0 media file(s), 2020 artifact file(s) and 0 other file(s)"
            ]
          },
          "metadata": {}
        },
        {
          "output_type": "display_data",
          "data": {
            "text/plain": [
              "<IPython.core.display.HTML object>"
            ],
            "text/html": [
              "Find logs at: <code>./wandb/run-20240403_183652-js05iojd/logs</code>"
            ]
          },
          "metadata": {}
        }
      ]
    }
  ]
}