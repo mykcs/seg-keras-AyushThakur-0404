{
  "nbformat": 4,
  "nbformat_minor": 0,
  "metadata": {
    "colab": {
      "provenance": [],
      "toc_visible": true,
      "name": "seg-keras-AyushThakur-0404.ipynb"
    },
    "kernelspec": {
      "name": "python3",
      "display_name": "Python 3"
    },
    "accelerator": "GPU",
    "widgets": {
      "application/vnd.jupyter.widget-state+json": {
        "e5f5f2d02bb44d16b2f32683a4b48db1": {
          "model_module": "@jupyter-widgets/controls",
          "model_name": "VBoxModel",
          "model_module_version": "1.5.0",
          "state": {
            "_dom_classes": [],
            "_model_module": "@jupyter-widgets/controls",
            "_model_module_version": "1.5.0",
            "_model_name": "VBoxModel",
            "_view_count": null,
            "_view_module": "@jupyter-widgets/controls",
            "_view_module_version": "1.5.0",
            "_view_name": "VBoxView",
            "box_style": "",
            "children": [
              "IPY_MODEL_a59ad81747204ce4bf84cf86e8799688",
              "IPY_MODEL_c4aea0ca3d374f1da14ca9966d123050"
            ],
            "layout": "IPY_MODEL_9b25457464fc461486ef8022d5968322"
          }
        },
        "a59ad81747204ce4bf84cf86e8799688": {
          "model_module": "@jupyter-widgets/controls",
          "model_name": "LabelModel",
          "model_module_version": "1.5.0",
          "state": {
            "_dom_classes": [],
            "_model_module": "@jupyter-widgets/controls",
            "_model_module_version": "1.5.0",
            "_model_name": "LabelModel",
            "_view_count": null,
            "_view_module": "@jupyter-widgets/controls",
            "_view_module_version": "1.5.0",
            "_view_name": "LabelView",
            "description": "",
            "description_tooltip": null,
            "layout": "IPY_MODEL_a8ee5b60afac4472984ad14653eabd2b",
            "placeholder": "​",
            "style": "IPY_MODEL_c1be68d7d4fb48eb9e4491be7b0f68d9",
            "value": "5.913 MB of 5.913 MB uploaded (0.613 MB deduped)\r"
          }
        },
        "c4aea0ca3d374f1da14ca9966d123050": {
          "model_module": "@jupyter-widgets/controls",
          "model_name": "FloatProgressModel",
          "model_module_version": "1.5.0",
          "state": {
            "_dom_classes": [],
            "_model_module": "@jupyter-widgets/controls",
            "_model_module_version": "1.5.0",
            "_model_name": "FloatProgressModel",
            "_view_count": null,
            "_view_module": "@jupyter-widgets/controls",
            "_view_module_version": "1.5.0",
            "_view_name": "ProgressView",
            "bar_style": "",
            "description": "",
            "description_tooltip": null,
            "layout": "IPY_MODEL_9ea52c26ebbc42d498c3f96116f4e315",
            "max": 1,
            "min": 0,
            "orientation": "horizontal",
            "style": "IPY_MODEL_4c4caf1352864a199f6069c3ab3839f1",
            "value": 1
          }
        },
        "9b25457464fc461486ef8022d5968322": {
          "model_module": "@jupyter-widgets/base",
          "model_name": "LayoutModel",
          "model_module_version": "1.2.0",
          "state": {
            "_model_module": "@jupyter-widgets/base",
            "_model_module_version": "1.2.0",
            "_model_name": "LayoutModel",
            "_view_count": null,
            "_view_module": "@jupyter-widgets/base",
            "_view_module_version": "1.2.0",
            "_view_name": "LayoutView",
            "align_content": null,
            "align_items": null,
            "align_self": null,
            "border": null,
            "bottom": null,
            "display": null,
            "flex": null,
            "flex_flow": null,
            "grid_area": null,
            "grid_auto_columns": null,
            "grid_auto_flow": null,
            "grid_auto_rows": null,
            "grid_column": null,
            "grid_gap": null,
            "grid_row": null,
            "grid_template_areas": null,
            "grid_template_columns": null,
            "grid_template_rows": null,
            "height": null,
            "justify_content": null,
            "justify_items": null,
            "left": null,
            "margin": null,
            "max_height": null,
            "max_width": null,
            "min_height": null,
            "min_width": null,
            "object_fit": null,
            "object_position": null,
            "order": null,
            "overflow": null,
            "overflow_x": null,
            "overflow_y": null,
            "padding": null,
            "right": null,
            "top": null,
            "visibility": null,
            "width": null
          }
        },
        "a8ee5b60afac4472984ad14653eabd2b": {
          "model_module": "@jupyter-widgets/base",
          "model_name": "LayoutModel",
          "model_module_version": "1.2.0",
          "state": {
            "_model_module": "@jupyter-widgets/base",
            "_model_module_version": "1.2.0",
            "_model_name": "LayoutModel",
            "_view_count": null,
            "_view_module": "@jupyter-widgets/base",
            "_view_module_version": "1.2.0",
            "_view_name": "LayoutView",
            "align_content": null,
            "align_items": null,
            "align_self": null,
            "border": null,
            "bottom": null,
            "display": null,
            "flex": null,
            "flex_flow": null,
            "grid_area": null,
            "grid_auto_columns": null,
            "grid_auto_flow": null,
            "grid_auto_rows": null,
            "grid_column": null,
            "grid_gap": null,
            "grid_row": null,
            "grid_template_areas": null,
            "grid_template_columns": null,
            "grid_template_rows": null,
            "height": null,
            "justify_content": null,
            "justify_items": null,
            "left": null,
            "margin": null,
            "max_height": null,
            "max_width": null,
            "min_height": null,
            "min_width": null,
            "object_fit": null,
            "object_position": null,
            "order": null,
            "overflow": null,
            "overflow_x": null,
            "overflow_y": null,
            "padding": null,
            "right": null,
            "top": null,
            "visibility": null,
            "width": null
          }
        },
        "c1be68d7d4fb48eb9e4491be7b0f68d9": {
          "model_module": "@jupyter-widgets/controls",
          "model_name": "DescriptionStyleModel",
          "model_module_version": "1.5.0",
          "state": {
            "_model_module": "@jupyter-widgets/controls",
            "_model_module_version": "1.5.0",
            "_model_name": "DescriptionStyleModel",
            "_view_count": null,
            "_view_module": "@jupyter-widgets/base",
            "_view_module_version": "1.2.0",
            "_view_name": "StyleView",
            "description_width": ""
          }
        },
        "9ea52c26ebbc42d498c3f96116f4e315": {
          "model_module": "@jupyter-widgets/base",
          "model_name": "LayoutModel",
          "model_module_version": "1.2.0",
          "state": {
            "_model_module": "@jupyter-widgets/base",
            "_model_module_version": "1.2.0",
            "_model_name": "LayoutModel",
            "_view_count": null,
            "_view_module": "@jupyter-widgets/base",
            "_view_module_version": "1.2.0",
            "_view_name": "LayoutView",
            "align_content": null,
            "align_items": null,
            "align_self": null,
            "border": null,
            "bottom": null,
            "display": null,
            "flex": null,
            "flex_flow": null,
            "grid_area": null,
            "grid_auto_columns": null,
            "grid_auto_flow": null,
            "grid_auto_rows": null,
            "grid_column": null,
            "grid_gap": null,
            "grid_row": null,
            "grid_template_areas": null,
            "grid_template_columns": null,
            "grid_template_rows": null,
            "height": null,
            "justify_content": null,
            "justify_items": null,
            "left": null,
            "margin": null,
            "max_height": null,
            "max_width": null,
            "min_height": null,
            "min_width": null,
            "object_fit": null,
            "object_position": null,
            "order": null,
            "overflow": null,
            "overflow_x": null,
            "overflow_y": null,
            "padding": null,
            "right": null,
            "top": null,
            "visibility": null,
            "width": null
          }
        },
        "4c4caf1352864a199f6069c3ab3839f1": {
          "model_module": "@jupyter-widgets/controls",
          "model_name": "ProgressStyleModel",
          "model_module_version": "1.5.0",
          "state": {
            "_model_module": "@jupyter-widgets/controls",
            "_model_module_version": "1.5.0",
            "_model_name": "ProgressStyleModel",
            "_view_count": null,
            "_view_module": "@jupyter-widgets/base",
            "_view_module_version": "1.2.0",
            "_view_name": "StyleView",
            "bar_color": null,
            "description_width": ""
          }
        }
      }
    }
  },
  "cells": [
    {
      "cell_type": "markdown",
      "metadata": {
        "id": "xpLZ1LnA2dQ5"
      },
      "source": [
        "## Imports and Setups"
      ]
    },
    {
      "cell_type": "code",
      "metadata": {
        "id": "Rf2eHZT16Iob"
      },
      "source": [
        "!pip install -qq wandb"
      ],
      "execution_count": null,
      "outputs": []
    },
    {
      "cell_type": "code",
      "metadata": {
        "id": "vRTx1-Zp7LEn",
        "colab": {
          "base_uri": "https://localhost:8080/"
        },
        "outputId": "49f7ae61-d871-4fcb-c5e8-27ee3f8ed262"
      },
      "source": [
        "import wandb\n",
        "from wandb.keras import WandbMetricsLogger\n",
        "from wandb.keras import WandbEvalCallback\n",
        "\n",
        "wandb.login()"
      ],
      "execution_count": null,
      "outputs": [
        {
          "output_type": "stream",
          "name": "stderr",
          "text": [
            "\u001b[34m\u001b[1mwandb\u001b[0m: Currently logged in as: \u001b[33mmykcs\u001b[0m (\u001b[33mteam-mykcs\u001b[0m). Use \u001b[1m`wandb login --relogin`\u001b[0m to force relogin\n"
          ]
        },
        {
          "output_type": "execute_result",
          "data": {
            "text/plain": [
              "True"
            ]
          },
          "metadata": {},
          "execution_count": 2
        }
      ]
    },
    {
      "cell_type": "code",
      "metadata": {
        "id": "3RZuWEXx4LrD"
      },
      "source": [
        "import tensorflow as tf\n",
        "from tensorflow.keras import layers\n",
        "from tensorflow.keras import models\n",
        "\n",
        "import tensorflow_datasets as tfds\n",
        "\n",
        "import os\n",
        "import numpy as np\n",
        "from argparse import Namespace\n",
        "import matplotlib.pyplot as plt"
      ],
      "execution_count": null,
      "outputs": []
    },
    {
      "cell_type": "code",
      "source": [
        "configs = Namespace(\n",
        "    epochs = 10,\n",
        "    img_size = 128,\n",
        "    batch_size = 32,\n",
        "    num_classes = 3,\n",
        ")\n",
        "configs"
      ],
      "metadata": {
        "id": "iTmWoWxXAlGt",
        "colab": {
          "base_uri": "https://localhost:8080/"
        },
        "outputId": "8c5b9225-88ca-415a-8d4f-2ad69b56aa27"
      },
      "execution_count": null,
      "outputs": [
        {
          "output_type": "execute_result",
          "data": {
            "text/plain": [
              "Namespace(epochs=10, img_size=128, batch_size=32, num_classes=3)"
            ]
          },
          "metadata": {},
          "execution_count": 4
        }
      ]
    },
    {
      "cell_type": "markdown",
      "source": [
        "# Dataloader\n",
        "\n",
        "We will be using Oxford Pets Dataset which we can directly get from TensorFlow Datasets."
      ],
      "metadata": {
        "id": "x7LMKima_Lh_"
      }
    },
    {
      "cell_type": "code",
      "source": [
        "train_ds, valid_ds = tfds.load('oxford_iiit_pet', split=[\"train\", \"test\"])"
      ],
      "metadata": {
        "id": "Ewb18OyD-LVX"
      },
      "execution_count": null,
      "outputs": []
    },
    {
      "cell_type": "code",
      "metadata": {
        "id": "-pgrpfqWIeI-"
      },
      "source": [
        "AUTOTUNE = tf.data.experimental.AUTOTUNE\n",
        "\n",
        "\n",
        "def parse_data(example):\n",
        "    # Parse image\n",
        "    image = example[\"image\"]\n",
        "    image = tf.image.convert_image_dtype(image, tf.float32)\n",
        "    image = tf.image.resize(image, size=(configs.img_size, configs.img_size))\n",
        "\n",
        "    # Parse mask\n",
        "    mask = example[\"segmentation_mask\"] - 1 # ground truth labels are [1,2,3].\n",
        "    mask = tf.image.resize(mask, size=(configs.img_size, configs.img_size), method='nearest')\n",
        "    mask = tf.one_hot(tf.squeeze(mask, axis=-1), depth=configs.num_classes)\n",
        "\n",
        "    return image, mask\n",
        "\n",
        "trainloader = (\n",
        "    train_ds\n",
        "    .shuffle(1024)\n",
        "    .map(parse_data, num_parallel_calls=AUTOTUNE)\n",
        "    .batch(configs.batch_size)\n",
        "    .prefetch(AUTOTUNE)\n",
        ")\n",
        "\n",
        "validloader = (\n",
        "    valid_ds\n",
        "    .map(parse_data, num_parallel_calls=AUTOTUNE)\n",
        "    .batch(configs.batch_size)\n",
        "    .prefetch(AUTOTUNE)\n",
        ")"
      ],
      "execution_count": null,
      "outputs": []
    },
    {
      "cell_type": "markdown",
      "metadata": {
        "id": "R5kZhpJks2J5"
      },
      "source": [
        "## Model"
      ]
    },
    {
      "cell_type": "code",
      "metadata": {
        "id": "VPkmeHXRY_MU"
      },
      "source": [
        "# ref: https://github.com/ayulockin/deepimageinpainting/blob/master/Image_Inpainting_Autoencoder_Decoder_v2_0.ipynb\n",
        "class SegmentationModel:\n",
        "    '''\n",
        "    Build UNET based model for segmentation task.\n",
        "    '''\n",
        "    def prepare_model(self, OUTPUT_CHANNEL, input_size=(configs.img_size, configs.img_size, 3)):\n",
        "        inputs = layers.Input(input_size)\n",
        "\n",
        "        conv1, pool1 = self.__ConvBlock(32, (3,3), (2,2), 'relu', 'same', inputs)\n",
        "        conv2, pool2 = self.__ConvBlock(64, (3,3), (2,2), 'relu', 'same', pool1)\n",
        "        conv3, pool3 = self.__ConvBlock(128, (3,3), (2,2), 'relu', 'same', pool2)\n",
        "        conv4, pool4 = self.__ConvBlock(256, (3,3), (2,2), 'relu', 'same', pool3)\n",
        "\n",
        "        conv5, up6 = self.__UpConvBlock(512, 256, (3,3), (2,2), (2,2), 'relu', 'same', pool4, conv4)\n",
        "        conv6, up7 = self.__UpConvBlock(256, 128, (3,3), (2,2), (2,2), 'relu', 'same', up6, conv3)\n",
        "        conv7, up8 = self.__UpConvBlock(128, 64, (3,3), (2,2), (2,2), 'relu', 'same', up7, conv2)\n",
        "        conv8, up9 = self.__UpConvBlock(64, 32, (3,3), (2,2), (2,2), 'relu', 'same', up8, conv1)\n",
        "\n",
        "        conv9 = self.__ConvBlock(32, (3,3), (2,2), 'relu', 'same', up9, False)\n",
        "\n",
        "        outputs = layers.Conv2D(OUTPUT_CHANNEL, (3, 3), activation='softmax', padding='same')(conv9)\n",
        "\n",
        "        return models.Model(inputs=[inputs], outputs=[outputs])\n",
        "\n",
        "    def __ConvBlock(self, filters, kernel_size, pool_size, activation, padding, connecting_layer, pool_layer=True):\n",
        "        conv = layers.Conv2D(filters=filters, kernel_size=kernel_size, activation=activation, padding=padding)(connecting_layer)\n",
        "        conv = layers.Conv2D(filters=filters, kernel_size=kernel_size, activation=activation, padding=padding)(conv)\n",
        "        if pool_layer:\n",
        "          pool = layers.MaxPooling2D(pool_size)(conv)\n",
        "          return conv, pool\n",
        "        else:\n",
        "          return conv\n",
        "\n",
        "    def __UpConvBlock(self, filters, up_filters, kernel_size, up_kernel, up_stride, activation, padding, connecting_layer, shared_layer):\n",
        "        conv = layers.Conv2D(filters=filters, kernel_size=kernel_size, activation=activation, padding=padding)(connecting_layer)\n",
        "        conv = layers.Conv2D(filters=filters, kernel_size=kernel_size, activation=activation, padding=padding)(conv)\n",
        "        up = layers.Conv2DTranspose(filters=up_filters, kernel_size=up_kernel, strides=up_stride, padding=padding)(conv)\n",
        "        up = layers.concatenate([up, shared_layer], axis=3)\n",
        "\n",
        "        return conv, up"
      ],
      "execution_count": null,
      "outputs": []
    },
    {
      "cell_type": "markdown",
      "metadata": {
        "id": "5VDkcXkjs5TV"
      },
      "source": [
        "#### Initialize Model and Compile"
      ]
    },
    {
      "cell_type": "code",
      "metadata": {
        "id": "yPpOC1NXZwsI",
        "colab": {
          "base_uri": "https://localhost:8080/"
        },
        "outputId": "ab701b05-2de4-4604-a1aa-ec263a4a1577"
      },
      "source": [
        "# output channel is 3 because we have three classes in our mask\n",
        "tf.keras.backend.clear_session()\n",
        "model = SegmentationModel().prepare_model(configs.num_classes)\n",
        "\n",
        "model.compile(\n",
        "    optimizer=\"adam\",\n",
        "    loss=\"categorical_crossentropy\",\n",
        ")\n",
        "\n",
        "model.summary()"
      ],
      "execution_count": null,
      "outputs": [
        {
          "output_type": "stream",
          "name": "stdout",
          "text": [
            "Model: \"model\"\n",
            "__________________________________________________________________________________________________\n",
            " Layer (type)                Output Shape                 Param #   Connected to                  \n",
            "==================================================================================================\n",
            " input_1 (InputLayer)        [(None, 128, 128, 3)]        0         []                            \n",
            "                                                                                                  \n",
            " conv2d (Conv2D)             (None, 128, 128, 32)         896       ['input_1[0][0]']             \n",
            "                                                                                                  \n",
            " conv2d_1 (Conv2D)           (None, 128, 128, 32)         9248      ['conv2d[0][0]']              \n",
            "                                                                                                  \n",
            " max_pooling2d (MaxPooling2  (None, 64, 64, 32)           0         ['conv2d_1[0][0]']            \n",
            " D)                                                                                               \n",
            "                                                                                                  \n",
            " conv2d_2 (Conv2D)           (None, 64, 64, 64)           18496     ['max_pooling2d[0][0]']       \n",
            "                                                                                                  \n",
            " conv2d_3 (Conv2D)           (None, 64, 64, 64)           36928     ['conv2d_2[0][0]']            \n",
            "                                                                                                  \n",
            " max_pooling2d_1 (MaxPoolin  (None, 32, 32, 64)           0         ['conv2d_3[0][0]']            \n",
            " g2D)                                                                                             \n",
            "                                                                                                  \n",
            " conv2d_4 (Conv2D)           (None, 32, 32, 128)          73856     ['max_pooling2d_1[0][0]']     \n",
            "                                                                                                  \n",
            " conv2d_5 (Conv2D)           (None, 32, 32, 128)          147584    ['conv2d_4[0][0]']            \n",
            "                                                                                                  \n",
            " max_pooling2d_2 (MaxPoolin  (None, 16, 16, 128)          0         ['conv2d_5[0][0]']            \n",
            " g2D)                                                                                             \n",
            "                                                                                                  \n",
            " conv2d_6 (Conv2D)           (None, 16, 16, 256)          295168    ['max_pooling2d_2[0][0]']     \n",
            "                                                                                                  \n",
            " conv2d_7 (Conv2D)           (None, 16, 16, 256)          590080    ['conv2d_6[0][0]']            \n",
            "                                                                                                  \n",
            " max_pooling2d_3 (MaxPoolin  (None, 8, 8, 256)            0         ['conv2d_7[0][0]']            \n",
            " g2D)                                                                                             \n",
            "                                                                                                  \n",
            " conv2d_8 (Conv2D)           (None, 8, 8, 512)            1180160   ['max_pooling2d_3[0][0]']     \n",
            "                                                                                                  \n",
            " conv2d_9 (Conv2D)           (None, 8, 8, 512)            2359808   ['conv2d_8[0][0]']            \n",
            "                                                                                                  \n",
            " conv2d_transpose (Conv2DTr  (None, 16, 16, 256)          524544    ['conv2d_9[0][0]']            \n",
            " anspose)                                                                                         \n",
            "                                                                                                  \n",
            " concatenate (Concatenate)   (None, 16, 16, 512)          0         ['conv2d_transpose[0][0]',    \n",
            "                                                                     'conv2d_7[0][0]']            \n",
            "                                                                                                  \n",
            " conv2d_10 (Conv2D)          (None, 16, 16, 256)          1179904   ['concatenate[0][0]']         \n",
            "                                                                                                  \n",
            " conv2d_11 (Conv2D)          (None, 16, 16, 256)          590080    ['conv2d_10[0][0]']           \n",
            "                                                                                                  \n",
            " conv2d_transpose_1 (Conv2D  (None, 32, 32, 128)          131200    ['conv2d_11[0][0]']           \n",
            " Transpose)                                                                                       \n",
            "                                                                                                  \n",
            " concatenate_1 (Concatenate  (None, 32, 32, 256)          0         ['conv2d_transpose_1[0][0]',  \n",
            " )                                                                   'conv2d_5[0][0]']            \n",
            "                                                                                                  \n",
            " conv2d_12 (Conv2D)          (None, 32, 32, 128)          295040    ['concatenate_1[0][0]']       \n",
            "                                                                                                  \n",
            " conv2d_13 (Conv2D)          (None, 32, 32, 128)          147584    ['conv2d_12[0][0]']           \n",
            "                                                                                                  \n",
            " conv2d_transpose_2 (Conv2D  (None, 64, 64, 64)           32832     ['conv2d_13[0][0]']           \n",
            " Transpose)                                                                                       \n",
            "                                                                                                  \n",
            " concatenate_2 (Concatenate  (None, 64, 64, 128)          0         ['conv2d_transpose_2[0][0]',  \n",
            " )                                                                   'conv2d_3[0][0]']            \n",
            "                                                                                                  \n",
            " conv2d_14 (Conv2D)          (None, 64, 64, 64)           73792     ['concatenate_2[0][0]']       \n",
            "                                                                                                  \n",
            " conv2d_15 (Conv2D)          (None, 64, 64, 64)           36928     ['conv2d_14[0][0]']           \n",
            "                                                                                                  \n",
            " conv2d_transpose_3 (Conv2D  (None, 128, 128, 32)         8224      ['conv2d_15[0][0]']           \n",
            " Transpose)                                                                                       \n",
            "                                                                                                  \n",
            " concatenate_3 (Concatenate  (None, 128, 128, 64)         0         ['conv2d_transpose_3[0][0]',  \n",
            " )                                                                   'conv2d_1[0][0]']            \n",
            "                                                                                                  \n",
            " conv2d_16 (Conv2D)          (None, 128, 128, 32)         18464     ['concatenate_3[0][0]']       \n",
            "                                                                                                  \n",
            " conv2d_17 (Conv2D)          (None, 128, 128, 32)         9248      ['conv2d_16[0][0]']           \n",
            "                                                                                                  \n",
            " conv2d_18 (Conv2D)          (None, 128, 128, 3)          867       ['conv2d_17[0][0]']           \n",
            "                                                                                                  \n",
            "==================================================================================================\n",
            "Total params: 7760931 (29.61 MB)\n",
            "Trainable params: 7760931 (29.61 MB)\n",
            "Non-trainable params: 0 (0.00 Byte)\n",
            "__________________________________________________________________________________________________\n"
          ]
        }
      ]
    },
    {
      "cell_type": "markdown",
      "metadata": {
        "id": "-TcgyZDoz_DI"
      },
      "source": [
        "## Callback"
      ]
    },
    {
      "cell_type": "code",
      "metadata": {
        "id": "XLPahLlK0Awz"
      },
      "source": [
        "segmentation_classes = ['pet', 'pet_outline', 'background']\n",
        "\n",
        "# returns a dictionary of labels\n",
        "def labels():\n",
        "    l = {}\n",
        "    for i, label in enumerate(segmentation_classes):\n",
        "        l[i] = label\n",
        "    return l"
      ],
      "execution_count": null,
      "outputs": []
    },
    {
      "cell_type": "code",
      "source": [
        "class WandbSemanticLogger(WandbEvalCallback):\n",
        "    def __init__(\n",
        "        self,\n",
        "        validloader,\n",
        "        data_table_columns=[\"index\", \"image\"],\n",
        "        pred_table_columns=[\"epoch\", \"index\", \"image\", \"prediction\"],\n",
        "        num_samples=100,\n",
        "    ):\n",
        "        super().__init__(\n",
        "            data_table_columns,\n",
        "            pred_table_columns,\n",
        "        )\n",
        "\n",
        "        self.val_data = validloader.unbatch().take(num_samples)\n",
        "\n",
        "    def add_ground_truth(self, logs):\n",
        "        for idx, (image, mask) in enumerate(self.val_data):\n",
        "            self.data_table.add_data(\n",
        "                idx,\n",
        "                self._prepare_wandb_mask(\n",
        "                    image.numpy(),\n",
        "                    np.argmax(mask.numpy(), axis=-1),\n",
        "                    \"ground_truth\"\n",
        "                )\n",
        "            )\n",
        "\n",
        "    def add_model_predictions(self, epoch, logs):\n",
        "        data_table_ref = self.data_table_ref\n",
        "        table_idxs = data_table_ref.get_index()\n",
        "\n",
        "        for idx, (image, mask) in enumerate(self.val_data):\n",
        "            prediction = self.model.predict(tf.expand_dims(image, axis=0), verbose=0)\n",
        "            prediction = np.argmax(tf.squeeze(prediction, axis=0).numpy(), axis=-1)\n",
        "\n",
        "            self.pred_table.add_data(\n",
        "                epoch,\n",
        "                data_table_ref.data[idx][0],\n",
        "                self._prepare_wandb_mask(\n",
        "                    data_table_ref.data[idx][1],\n",
        "                    np.argmax(mask.numpy(), axis=-1),\n",
        "                    \"ground_truth\"\n",
        "                ),\n",
        "                self._prepare_wandb_mask(\n",
        "                    data_table_ref.data[idx][1],\n",
        "                    prediction,\n",
        "                    \"prediction\"\n",
        "                )\n",
        "            )\n",
        "\n",
        "    def _prepare_wandb_mask(self, image, mask, mask_type):\n",
        "        return wandb.Image(\n",
        "            image,\n",
        "            masks = {\n",
        "                \"ground_truth\": {\n",
        "                    \"mask_data\": mask,\n",
        "                    \"class_labels\": labels()\n",
        "            }})"
      ],
      "metadata": {
        "id": "twjjzv9MN7N0"
      },
      "execution_count": null,
      "outputs": []
    },
    {
      "cell_type": "markdown",
      "metadata": {
        "id": "Xe8JWIlXs_EQ"
      },
      "source": [
        "## Train"
      ]
    },
    {
      "cell_type": "code",
      "metadata": {
        "id": "odN9SwNqaPz3",
        "colab": {
          "base_uri": "https://localhost:8080/",
          "height": 834,
          "referenced_widgets": [
            "e5f5f2d02bb44d16b2f32683a4b48db1",
            "a59ad81747204ce4bf84cf86e8799688",
            "c4aea0ca3d374f1da14ca9966d123050",
            "9b25457464fc461486ef8022d5968322",
            "a8ee5b60afac4472984ad14653eabd2b",
            "c1be68d7d4fb48eb9e4491be7b0f68d9",
            "9ea52c26ebbc42d498c3f96116f4e315",
            "4c4caf1352864a199f6069c3ab3839f1"
          ]
        },
        "outputId": "146dc267-e4d0-4a2c-f1ec-a3922316aaa1"
      },
      "source": [
        "run = wandb.init(project='seg-keras-AyushThakur-0404', config=configs)\n",
        "\n",
        "_ = model.fit(\n",
        "    trainloader,\n",
        "    epochs=configs.epochs,  # 10\n",
        "    validation_data=validloader,\n",
        "    callbacks=[\n",
        "        WandbMetricsLogger(log_freq=2),\n",
        "        WandbSemanticLogger(validloader)\n",
        "      ]\n",
        "    )\n",
        "\n",
        "run.finish()"
      ],
      "execution_count": null,
      "outputs": [
        {
          "output_type": "display_data",
          "data": {
            "text/plain": [
              "<IPython.core.display.HTML object>"
            ],
            "text/html": [
              "Tracking run with wandb version 0.16.5"
            ]
          },
          "metadata": {}
        },
        {
          "output_type": "display_data",
          "data": {
            "text/plain": [
              "<IPython.core.display.HTML object>"
            ],
            "text/html": [
              "Run data is saved locally in <code>/content/wandb/run-20240403_172037-t31is6az</code>"
            ]
          },
          "metadata": {}
        },
        {
          "output_type": "display_data",
          "data": {
            "text/plain": [
              "<IPython.core.display.HTML object>"
            ],
            "text/html": [
              "Syncing run <strong><a href='https://wandb.ai/team-mykcs/seg-keras-AyushThakur-0404/runs/t31is6az/workspace' target=\"_blank\">magic-bush-1</a></strong> to <a href='https://wandb.ai/team-mykcs/seg-keras-AyushThakur-0404' target=\"_blank\">Weights & Biases</a> (<a href='https://wandb.me/run' target=\"_blank\">docs</a>)<br/>"
            ]
          },
          "metadata": {}
        },
        {
          "output_type": "display_data",
          "data": {
            "text/plain": [
              "<IPython.core.display.HTML object>"
            ],
            "text/html": [
              " View project at <a href='https://wandb.ai/team-mykcs/seg-keras-AyushThakur-0404' target=\"_blank\">https://wandb.ai/team-mykcs/seg-keras-AyushThakur-0404</a>"
            ]
          },
          "metadata": {}
        },
        {
          "output_type": "display_data",
          "data": {
            "text/plain": [
              "<IPython.core.display.HTML object>"
            ],
            "text/html": [
              " View run at <a href='https://wandb.ai/team-mykcs/seg-keras-AyushThakur-0404/runs/t31is6az/workspace' target=\"_blank\">https://wandb.ai/team-mykcs/seg-keras-AyushThakur-0404/runs/t31is6az/workspace</a>"
            ]
          },
          "metadata": {}
        },
        {
          "output_type": "stream",
          "name": "stderr",
          "text": [
            "\u001b[34m\u001b[1mwandb\u001b[0m: \\ 1 of 202 files downloaded...\r\u001b[34m\u001b[1mwandb\u001b[0m:   202 of 202 files downloaded.  \n"
          ]
        },
        {
          "output_type": "stream",
          "name": "stdout",
          "text": [
            "Epoch 1/10\n",
            "  6/115 [>.............................] - ETA: 15s - loss: 1.0045"
          ]
        },
        {
          "output_type": "stream",
          "name": "stderr",
          "text": [
            "WARNING:tensorflow:Callback method `on_train_batch_end` is slow compared to the batch time (batch time: 0.0566s vs `on_train_batch_end` time: 0.0693s). Check your callbacks.\n"
          ]
        },
        {
          "output_type": "stream",
          "name": "stdout",
          "text": [
            "115/115 [==============================] - 67s 370ms/step - loss: 0.8460 - val_loss: 0.7150\n",
            "Epoch 2/10\n",
            "115/115 [==============================] - 39s 321ms/step - loss: 0.6529 - val_loss: 0.6241\n",
            "Epoch 3/10\n",
            "115/115 [==============================] - 42s 325ms/step - loss: 0.5868 - val_loss: 0.5365\n",
            "Epoch 4/10\n",
            "115/115 [==============================] - 39s 323ms/step - loss: 0.5143 - val_loss: 0.4762\n",
            "Epoch 5/10\n",
            "115/115 [==============================] - 45s 343ms/step - loss: 0.4688 - val_loss: 0.4378\n",
            "Epoch 6/10\n",
            "115/115 [==============================] - 42s 329ms/step - loss: 0.4334 - val_loss: 0.4383\n",
            "Epoch 7/10\n",
            "115/115 [==============================] - 50s 414ms/step - loss: 0.4025 - val_loss: 0.4095\n",
            "Epoch 8/10\n",
            "115/115 [==============================] - 44s 358ms/step - loss: 0.3888 - val_loss: 0.3856\n",
            "Epoch 9/10\n",
            "115/115 [==============================] - 50s 422ms/step - loss: 0.3551 - val_loss: 0.4029\n",
            "Epoch 10/10\n",
            "115/115 [==============================] - 40s 336ms/step - loss: 0.3485 - val_loss: 0.3765\n"
          ]
        },
        {
          "output_type": "display_data",
          "data": {
            "text/plain": [
              "VBox(children=(Label(value='5.902 MB of 5.902 MB uploaded (0.613 MB deduped)\\r'), FloatProgress(value=1.0, max…"
            ],
            "application/vnd.jupyter.widget-view+json": {
              "version_major": 2,
              "version_minor": 0,
              "model_id": "e5f5f2d02bb44d16b2f32683a4b48db1"
            }
          },
          "metadata": {}
        },
        {
          "output_type": "display_data",
          "data": {
            "text/plain": [
              "<IPython.core.display.HTML object>"
            ],
            "text/html": [
              "W&B sync reduced upload amount by 10.4%             "
            ]
          },
          "metadata": {}
        },
        {
          "output_type": "display_data",
          "data": {
            "text/plain": [
              "<IPython.core.display.HTML object>"
            ],
            "text/html": [
              "<style>\n",
              "    table.wandb td:nth-child(1) { padding: 0 10px; text-align: left ; width: auto;} td:nth-child(2) {text-align: left ; width: 100%}\n",
              "    .wandb-row { display: flex; flex-direction: row; flex-wrap: wrap; justify-content: flex-start; width: 100% }\n",
              "    .wandb-col { display: flex; flex-direction: column; flex-basis: 100%; flex: 1; padding: 10px; }\n",
              "    </style>\n",
              "<div class=\"wandb-row\"><div class=\"wandb-col\"><h3>Run history:</h3><br/><table class=\"wandb\"><tr><td>batch/batch_step</td><td>▁▁▁▁▂▂▂▂▂▃▃▃▃▃▃▄▄▄▄▄▅▅▅▅▅▅▆▆▆▆▆▇▇▇▇▇▇███</td></tr><tr><td>batch/learning_rate</td><td>▁▁▁▁▁▁▁▁▁▁▁▁▁▁▁▁▁▁▁▁▁▁▁▁▁▁▁▁▁▁▁▁▁▁▁▁▁▁▁▁</td></tr><tr><td>batch/loss</td><td>███▇▅▅▅▅▄▄▄▄▃▃▃▃▃▃▂▂▂▂▂▂▂▂▂▂▁▁▂▁▁▁▁▁▁▁▁▁</td></tr><tr><td>epoch/epoch</td><td>▁▂▃▃▄▅▆▆▇█</td></tr><tr><td>epoch/learning_rate</td><td>▁▁▁▁▁▁▁▁▁▁</td></tr><tr><td>epoch/loss</td><td>█▅▄▃▃▂▂▂▁▁</td></tr><tr><td>epoch/val_loss</td><td>█▆▄▃▂▂▂▁▂▁</td></tr></table><br/></div><div class=\"wandb-col\"><h3>Run summary:</h3><br/><table class=\"wandb\"><tr><td>batch/batch_step</td><td>1158</td></tr><tr><td>batch/learning_rate</td><td>0.001</td></tr><tr><td>batch/loss</td><td>0.34846</td></tr><tr><td>epoch/epoch</td><td>9</td></tr><tr><td>epoch/learning_rate</td><td>0.001</td></tr><tr><td>epoch/loss</td><td>0.34846</td></tr><tr><td>epoch/val_loss</td><td>0.37655</td></tr></table><br/></div></div>"
            ]
          },
          "metadata": {}
        },
        {
          "output_type": "display_data",
          "data": {
            "text/plain": [
              "<IPython.core.display.HTML object>"
            ],
            "text/html": [
              " View run <strong style=\"color:#cdcd00\">magic-bush-1</strong> at: <a href='https://wandb.ai/team-mykcs/seg-keras-AyushThakur-0404/runs/t31is6az/workspace' target=\"_blank\">https://wandb.ai/team-mykcs/seg-keras-AyushThakur-0404/runs/t31is6az/workspace</a><br/>Synced 5 W&B file(s), 0 media file(s), 2222 artifact file(s) and 0 other file(s)"
            ]
          },
          "metadata": {}
        },
        {
          "output_type": "display_data",
          "data": {
            "text/plain": [
              "<IPython.core.display.HTML object>"
            ],
            "text/html": [
              "Find logs at: <code>./wandb/run-20240403_172037-t31is6az/logs</code>"
            ]
          },
          "metadata": {}
        }
      ]
    }
  ]
}